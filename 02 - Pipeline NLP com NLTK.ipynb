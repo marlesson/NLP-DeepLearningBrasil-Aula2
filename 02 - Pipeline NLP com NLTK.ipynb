{
 "cells": [
  {
   "cell_type": "markdown",
   "metadata": {},
   "source": [
    "# Pipeline de NLP - NLTK\n",
    "\n",
    "Exemplo de um pipeline simples de NLP:\n",
    "\n",
    "* Tokenização\n",
    "* Limpeza\n",
    "* Vetorização"
   ]
  },
  {
   "cell_type": "code",
   "execution_count": 69,
   "metadata": {},
   "outputs": [],
   "source": [
    "import nltk\n",
    "from nltk.tokenize import word_tokenize\n",
    "from nltk.stem.snowball import SnowballStemmer\n",
    "from sklearn.feature_extraction.text import TfidfVectorizer\n",
    "import pandas as pd"
   ]
  },
  {
   "cell_type": "code",
   "execution_count": 70,
   "metadata": {},
   "outputs": [],
   "source": [
    "documentos = [\n",
    "    \"O rei roeu a rolpa do rato de roma\",\n",
    "    \"Deep Learning é muito bom, vem estudar com a gente\",\n",
    "    \"A casa amarela em roma é verde\"\n",
    "]"
   ]
  },
  {
   "cell_type": "code",
   "execution_count": 74,
   "metadata": {},
   "outputs": [
    {
     "data": {
      "text/plain": [
       "['o', 'rei', 'roeu', 'a', 'rolp', 'do', 'rat', 'de', 'rom']"
      ]
     },
     "execution_count": 74,
     "metadata": {},
     "output_type": "execute_result"
    }
   ],
   "source": [
    "# Tokenização\n",
    "def tokenize(text):\n",
    "    # Tokenização\n",
    "    tokens = nltk.word_tokenize(text)\n",
    "    \n",
    "    # Stemização\n",
    "    stems  = []\n",
    "    for item in tokens:\n",
    "        stems.append(SnowballStemmer(\"portuguese\").stem(item))\n",
    "    return stems\n",
    "\n",
    "tokenize(documentos[0])"
   ]
  },
  {
   "cell_type": "code",
   "execution_count": 75,
   "metadata": {
    "hide_input": false
   },
   "outputs": [
    {
     "data": {
      "text/html": [
       "<div>\n",
       "<style scoped>\n",
       "    .dataframe tbody tr th:only-of-type {\n",
       "        vertical-align: middle;\n",
       "    }\n",
       "\n",
       "    .dataframe tbody tr th {\n",
       "        vertical-align: top;\n",
       "    }\n",
       "\n",
       "    .dataframe thead th {\n",
       "        text-align: right;\n",
       "    }\n",
       "</style>\n",
       "<table border=\"1\" class=\"dataframe\">\n",
       "  <thead>\n",
       "    <tr style=\"text-align: right;\">\n",
       "      <th></th>\n",
       "      <th>amarel</th>\n",
       "      <th>bom</th>\n",
       "      <th>cas</th>\n",
       "      <th>com</th>\n",
       "      <th>deep</th>\n",
       "      <th>em</th>\n",
       "      <th>estud</th>\n",
       "      <th>gent</th>\n",
       "      <th>learning</th>\n",
       "      <th>muit</th>\n",
       "      <th>rat</th>\n",
       "      <th>rei</th>\n",
       "      <th>roeu</th>\n",
       "      <th>rolp</th>\n",
       "      <th>rom</th>\n",
       "      <th>vem</th>\n",
       "      <th>verd</th>\n",
       "    </tr>\n",
       "  </thead>\n",
       "  <tbody>\n",
       "    <tr>\n",
       "      <th>0</th>\n",
       "      <td>0.000000</td>\n",
       "      <td>0.000000</td>\n",
       "      <td>0.000000</td>\n",
       "      <td>0.000000</td>\n",
       "      <td>0.000000</td>\n",
       "      <td>0.000000</td>\n",
       "      <td>0.000000</td>\n",
       "      <td>0.000000</td>\n",
       "      <td>0.000000</td>\n",
       "      <td>0.000000</td>\n",
       "      <td>0.467351</td>\n",
       "      <td>0.467351</td>\n",
       "      <td>0.467351</td>\n",
       "      <td>0.467351</td>\n",
       "      <td>0.355432</td>\n",
       "      <td>0.000000</td>\n",
       "      <td>0.000000</td>\n",
       "    </tr>\n",
       "    <tr>\n",
       "      <th>1</th>\n",
       "      <td>0.000000</td>\n",
       "      <td>0.353553</td>\n",
       "      <td>0.000000</td>\n",
       "      <td>0.353553</td>\n",
       "      <td>0.353553</td>\n",
       "      <td>0.000000</td>\n",
       "      <td>0.353553</td>\n",
       "      <td>0.353553</td>\n",
       "      <td>0.353553</td>\n",
       "      <td>0.353553</td>\n",
       "      <td>0.000000</td>\n",
       "      <td>0.000000</td>\n",
       "      <td>0.000000</td>\n",
       "      <td>0.000000</td>\n",
       "      <td>0.000000</td>\n",
       "      <td>0.353553</td>\n",
       "      <td>0.000000</td>\n",
       "    </tr>\n",
       "    <tr>\n",
       "      <th>2</th>\n",
       "      <td>0.467351</td>\n",
       "      <td>0.000000</td>\n",
       "      <td>0.467351</td>\n",
       "      <td>0.000000</td>\n",
       "      <td>0.000000</td>\n",
       "      <td>0.467351</td>\n",
       "      <td>0.000000</td>\n",
       "      <td>0.000000</td>\n",
       "      <td>0.000000</td>\n",
       "      <td>0.000000</td>\n",
       "      <td>0.000000</td>\n",
       "      <td>0.000000</td>\n",
       "      <td>0.000000</td>\n",
       "      <td>0.000000</td>\n",
       "      <td>0.355432</td>\n",
       "      <td>0.000000</td>\n",
       "      <td>0.467351</td>\n",
       "    </tr>\n",
       "  </tbody>\n",
       "</table>\n",
       "</div>"
      ],
      "text/plain": [
       "     amarel       bom       cas       com      deep        em     estud  \\\n",
       "0  0.000000  0.000000  0.000000  0.000000  0.000000  0.000000  0.000000   \n",
       "1  0.000000  0.353553  0.000000  0.353553  0.353553  0.000000  0.353553   \n",
       "2  0.467351  0.000000  0.467351  0.000000  0.000000  0.467351  0.000000   \n",
       "\n",
       "       gent  learning      muit       rat       rei      roeu      rolp  \\\n",
       "0  0.000000  0.000000  0.000000  0.467351  0.467351  0.467351  0.467351   \n",
       "1  0.353553  0.353553  0.353553  0.000000  0.000000  0.000000  0.000000   \n",
       "2  0.000000  0.000000  0.000000  0.000000  0.000000  0.000000  0.000000   \n",
       "\n",
       "        rom       vem      verd  \n",
       "0  0.355432  0.000000  0.000000  \n",
       "1  0.000000  0.353553  0.000000  \n",
       "2  0.355432  0.000000  0.467351  "
      ]
     },
     "execution_count": 75,
     "metadata": {},
     "output_type": "execute_result"
    }
   ],
   "source": [
    "# StopWords\n",
    "#\n",
    "stop_words = ['de', 'a', 'o', 'é', 'do', ',']\n",
    "\n",
    "# Vetorização\n",
    "tfidf       = TfidfVectorizer(tokenizer=tokenize, stop_words=stop_words, ngram_range=(1,1))\n",
    "\n",
    "# Features\n",
    "tfs         = pd.DataFrame(tfidf.fit_transform(documentos).todense(), \n",
    "                           columns=tfidf.get_feature_names())\n",
    "tfs"
   ]
  },
  {
   "cell_type": "code",
   "execution_count": 60,
   "metadata": {},
   "outputs": [
    {
     "data": {
      "text/plain": [
       "0.11445011401938422"
      ]
     },
     "execution_count": 60,
     "metadata": {},
     "output_type": "execute_result"
    }
   ],
   "source": [
    "np.dot(tfs.iloc[0].values, tfs.iloc[2].values)"
   ]
  }
 ],
 "metadata": {
  "kernelspec": {
   "display_name": "Python 3",
   "language": "python",
   "name": "python3"
  },
  "language_info": {
   "codemirror_mode": {
    "name": "ipython",
    "version": 3
   },
   "file_extension": ".py",
   "mimetype": "text/x-python",
   "name": "python",
   "nbconvert_exporter": "python",
   "pygments_lexer": "ipython3",
   "version": "3.7.3"
  },
  "toc": {
   "base_numbering": 1,
   "nav_menu": {},
   "number_sections": true,
   "sideBar": true,
   "skip_h1_title": false,
   "title_cell": "Table of Contents",
   "title_sidebar": "Contents",
   "toc_cell": false,
   "toc_position": {},
   "toc_section_display": true,
   "toc_window_display": false
  }
 },
 "nbformat": 4,
 "nbformat_minor": 2
}
