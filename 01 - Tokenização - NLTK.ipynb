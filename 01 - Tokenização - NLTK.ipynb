{
 "cells": [
  {
   "cell_type": "markdown",
   "metadata": {},
   "source": [
    "# Tokenização com NLTK\n",
    "\n",
    "Exemplo de tokenização e stemmização com NLTK"
   ]
  },
  {
   "cell_type": "code",
   "execution_count": 11,
   "metadata": {},
   "outputs": [],
   "source": [
    "import nltk\n",
    "from nltk.tokenize import word_tokenize, sent_tokenize"
   ]
  },
  {
   "cell_type": "code",
   "execution_count": 48,
   "metadata": {},
   "outputs": [
    {
     "data": {
      "text/plain": [
       "'Carpe diem. Aproveitem o dia de hoje, rapazes. \\nTornem as suas vidas extraordinárias.'"
      ]
     },
     "execution_count": 48,
     "metadata": {},
     "output_type": "execute_result"
    }
   ],
   "source": [
    "sentence = \"\"\"Carpe diem. Aproveitem o dia de hoje, rapazes. \n",
    "Tornem as suas vidas extraordinárias.\"\"\"\n",
    "\n",
    "sentence"
   ]
  },
  {
   "cell_type": "code",
   "execution_count": 53,
   "metadata": {},
   "outputs": [
    {
     "data": {
      "text/plain": [
       "['Carpe diem.',\n",
       " 'Aproveitem o dia de hoje, rapazes.',\n",
       " 'Tornem as suas vidas extraordinárias.']"
      ]
     },
     "execution_count": 53,
     "metadata": {},
     "output_type": "execute_result"
    }
   ],
   "source": [
    "# Sentence Token\n",
    "tokens = sent_tokenize(sentence)\n",
    "tokens"
   ]
  },
  {
   "cell_type": "code",
   "execution_count": 52,
   "metadata": {},
   "outputs": [
    {
     "name": "stdout",
     "output_type": "stream",
     "text": [
      "['Carpe', 'diem', '.', 'Aproveitem', 'o', 'dia', 'de', 'hoje', ',', 'rapazes', '.', 'Tornem', 'as', 'suas', 'vidas', 'extraordinárias', '.']\n"
     ]
    }
   ],
   "source": [
    "# Word Token\n",
    "tokens = word_tokenize(sentence)\n",
    "print(tokens)"
   ]
  },
  {
   "cell_type": "markdown",
   "metadata": {},
   "source": [
    "## Stemmer"
   ]
  },
  {
   "cell_type": "code",
   "execution_count": 38,
   "metadata": {},
   "outputs": [],
   "source": [
    "from nltk.stem.snowball import SnowballStemmer\n"
   ]
  },
  {
   "cell_type": "code",
   "execution_count": 44,
   "metadata": {},
   "outputs": [
    {
     "data": {
      "text/plain": [
       "['carp',\n",
       " 'diem',\n",
       " '.',\n",
       " 'aproveit',\n",
       " 'o',\n",
       " 'dia',\n",
       " 'de',\n",
       " 'hoj',\n",
       " ',',\n",
       " 'rapaz',\n",
       " '.',\n",
       " 'torn',\n",
       " 'as',\n",
       " 'suas',\n",
       " 'vid',\n",
       " 'extraordinár',\n",
       " '.']"
      ]
     },
     "execution_count": 44,
     "metadata": {},
     "output_type": "execute_result"
    }
   ],
   "source": [
    "tokens = word_tokenize(sentence)\n",
    "\n",
    "# Stemização\n",
    "stems  = []\n",
    "for item in tokens:\n",
    "    stems.append(SnowballStemmer(\"portuguese\").stem(item))\n",
    "\n",
    "stems"
   ]
  }
 ],
 "metadata": {
  "kernelspec": {
   "display_name": "Python 3",
   "language": "python",
   "name": "python3"
  },
  "language_info": {
   "codemirror_mode": {
    "name": "ipython",
    "version": 3
   },
   "file_extension": ".py",
   "mimetype": "text/x-python",
   "name": "python",
   "nbconvert_exporter": "python",
   "pygments_lexer": "ipython3",
   "version": "3.7.3"
  },
  "toc": {
   "base_numbering": 1,
   "nav_menu": {},
   "number_sections": true,
   "sideBar": true,
   "skip_h1_title": false,
   "title_cell": "Table of Contents",
   "title_sidebar": "Contents",
   "toc_cell": false,
   "toc_position": {},
   "toc_section_display": true,
   "toc_window_display": false
  }
 },
 "nbformat": 4,
 "nbformat_minor": 2
}
