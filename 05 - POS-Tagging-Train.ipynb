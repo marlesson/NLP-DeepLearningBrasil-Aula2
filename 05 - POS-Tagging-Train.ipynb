{
 "cells": [
  {
   "cell_type": "markdown",
   "metadata": {},
   "source": [
    "<h1>Training a Parts of speech tagger using NLTK tree bank data set </h1>\n",
    "\n",
    "O POS refere-se à categorização das palavras em uma frase em funções sintáticas ou gramaticais específicas. Em inglês, as principais partes da fala são substantivos, pronomes, adjetivos, verbos, advérbios, preposições, determinantes e conjunções. A marcação POS é a tarefa de anexar uma dessas categorias a cada uma das palavras ou tokens em um texto. \n",
    "\n",
    "O NLTK fornece um conjunto de corpus de texto marcado e um conjunto de treinadores de POS para criar marcadores personalizados. Os conjuntos de dados marcados mais comuns no NLTK são o Penn Treebank e o Brown Corpus. \n",
    "\n",
    "O Penn Treebank consiste em uma coleção de textos analisados ​​de artigos de periódicos, conversas telefônicas e assim por diante. Da mesma forma, o Corpus Brown consiste em textos de 15 categorias diferentes de artigos (ciência, política, religião, esportes, etc.). Esses dados de texto fornecem marcação de granularidade muito fina, enquanto muitos aplicativos podem precisar apenas do seguinte conjunto de tags universal:\n",
    "\n",
    "* VERBO: Verbos (todos os tempos e modos)\n",
    "* NOUN: Substantivos (comuns e adequados)\n",
    "* PRON: Pronomes\n",
    "* ADJ: Adjetivos\n",
    "* ADV: Advérbios\n",
    "* ADP: Adposições (preposições e posposições)\n",
    "* CONJ: Conjunções\n",
    "* DET: Determinantes\n",
    "* NUM: números cardinais\n",
    "* PRT: Partículas ou outras palavras de função\n",
    "* X-outro: palavras estrangeiras, erros de digitação, abreviações\n",
    "* .: Pontuação"
   ]
  },
  {
   "cell_type": "code",
   "execution_count": 30,
   "metadata": {},
   "outputs": [],
   "source": [
    "import nltk\n",
    "#from nltk.examples.pt import *\n",
    "import numpy as np\n",
    "from nltk import word_tokenize\n",
    "import matplotlib.pyplot as plt\n",
    "%matplotlib inline\n",
    "from sklearn.feature_extraction import DictVectorizer\n",
    "from sklearn.model_selection import train_test_split\n",
    "from sklearn.ensemble import RandomForestClassifier\n",
    "from sklearn.metrics import accuracy_score\n",
    "from sklearn.metrics import confusion_matrix\n",
    "from nltk.corpus import mac_morpho\n",
    "from nltk.corpus import floresta"
   ]
  },
  {
   "cell_type": "code",
   "execution_count": 90,
   "metadata": {},
   "outputs": [
    {
     "data": {
      "text/plain": [
       "'Jersei atinge média de Cr$ 1,4 milhão em a venda de a Pinhal em São Paulo'"
      ]
     },
     "execution_count": 90,
     "metadata": {},
     "output_type": "execute_result"
    }
   ],
   "source": [
    "\" \".join(mac_morpho.sents()[0])"
   ]
  },
  {
   "cell_type": "code",
   "execution_count": 77,
   "metadata": {},
   "outputs": [
    {
     "name": "stdout",
     "output_type": "stream",
     "text": [
      "['Jersei', 'atinge', 'média', 'de', 'Cr$', '1,4', ...] 1170095\n"
     ]
    }
   ],
   "source": [
    "from nltk.corpus import mac_morpho\n",
    "\n",
    "# print sample\n",
    "print(mac_morpho.words(), len(mac_morpho.words()))"
   ]
  },
  {
   "cell_type": "code",
   "execution_count": 78,
   "metadata": {},
   "outputs": [
    {
     "name": "stdout",
     "output_type": "stream",
     "text": [
      "('Jersei', 'N')\n",
      "('atinge', 'V')\n",
      "('média', 'N')\n",
      "('de', 'PREP')\n",
      "('Cr$', 'CUR')\n",
      "('1,4', 'NUM')\n"
     ]
    }
   ],
   "source": [
    "for t in mac_morpho.tagged_words()[:6]:\n",
    "    print(t)"
   ]
  },
  {
   "cell_type": "code",
   "execution_count": 79,
   "metadata": {},
   "outputs": [
    {
     "name": "stdout",
     "output_type": "stream",
     "text": [
      "[('Jersei', 'N'), ('atinge', 'V'), ('média', 'N'), ('de', 'PREP'), ('Cr$', 'CUR'), ('1,4', 'NUM'), ('milhão', 'N'), ('em', 'PREP|+'), ('a', 'ART'), ('venda', 'N'), ('de', 'PREP|+'), ('a', 'ART'), ('Pinhal', 'NPROP'), ('em', 'PREP'), ('São', 'NPROP'), ('Paulo', 'NPROP')]\n"
     ]
    }
   ],
   "source": [
    "print(mac_morpho.tagged_sents()[0])"
   ]
  },
  {
   "cell_type": "code",
   "execution_count": 36,
   "metadata": {},
   "outputs": [],
   "source": [
    "# def simplify_tag(t):\n",
    "#      if \"+\" in t:\n",
    "#          return t[t.index(\"+\")+1:]\n",
    "#      else:\n",
    "#          return t\n",
    "\n",
    "# tsents = floresta.tagged_sents()\n",
    "# tagged_sentences = [[(w.lower(), simplify_tag(t)) for (w,t) in sent] for sent in tsents if sent]\n",
    "# train  = tagged_sentences[100:]\n",
    "# test   = tagged_sentences[:100]"
   ]
  },
  {
   "cell_type": "code",
   "execution_count": 80,
   "metadata": {},
   "outputs": [],
   "source": [
    "def sentence_features(st, ix):\n",
    "    d_ft = {}\n",
    "    d_ft['word']            = st[ix]\n",
    "    d_ft['dist_from_first'] = ix - 0\n",
    "    d_ft['dist_from_last']  = len(st) - ix\n",
    "    d_ft['capitalized']     = st[ix][0].upper() == st[ix][0]\n",
    "    d_ft['prefix1'] = st[ix][0]\n",
    "    d_ft['prefix2'] = st[ix][:2]\n",
    "    d_ft['prefix3'] = st[ix][:3]\n",
    "    d_ft['suffix1'] = st[ix][-1]\n",
    "    d_ft['suffix2'] = st[ix][-2:]\n",
    "    d_ft['suffix3'] = st[ix][-3:]\n",
    "    d_ft['prev_word'] = '' if ix==0 else st[ix-1]\n",
    "    d_ft['next_word'] = '' if ix==(len(st)-1) else st[ix+1]\n",
    "    d_ft['numeric']   = st[ix].isdigit()\n",
    "    return d_ft\n",
    "\n",
    "def get_untagged_sentence(tagged_sentence):\n",
    "    [s,t] = zip(*tagged_sentence)\n",
    "    return list(s)"
   ]
  },
  {
   "cell_type": "code",
   "execution_count": 81,
   "metadata": {},
   "outputs": [],
   "source": []
  },
  {
   "cell_type": "code",
   "execution_count": 82,
   "metadata": {},
   "outputs": [
    {
     "data": {
      "text/plain": [
       "51397"
      ]
     },
     "execution_count": 82,
     "metadata": {},
     "output_type": "execute_result"
    }
   ],
   "source": [
    "#tagged_sentences  = nltk.corpus.treebank.tagged_sents(tagset='universal')\n",
    "tagged_sentences  = nltk.corpus.mac_morpho.tagged_sents()\n",
    "#tagged_sentences  = nltk.corpus.machado.tagged_sents()\n",
    "\n",
    "\n",
    "len(tagged_sentences)"
   ]
  },
  {
   "cell_type": "code",
   "execution_count": 83,
   "metadata": {},
   "outputs": [],
   "source": [
    "#tagged_sentences = train"
   ]
  },
  {
   "cell_type": "code",
   "execution_count": 84,
   "metadata": {},
   "outputs": [
    {
     "data": {
      "text/plain": [
       "[[('Jersei', 'N'),\n",
       "  ('atinge', 'V'),\n",
       "  ('média', 'N'),\n",
       "  ('de', 'PREP'),\n",
       "  ('Cr$', 'CUR'),\n",
       "  ('1,4', 'NUM'),\n",
       "  ('milhão', 'N'),\n",
       "  ('em', 'PREP|+'),\n",
       "  ('a', 'ART'),\n",
       "  ('venda', 'N'),\n",
       "  ('de', 'PREP|+'),\n",
       "  ('a', 'ART'),\n",
       "  ('Pinhal', 'NPROP'),\n",
       "  ('em', 'PREP'),\n",
       "  ('São', 'NPROP'),\n",
       "  ('Paulo', 'NPROP')],\n",
       " [('Programe', 'V'),\n",
       "  ('sua', 'PROADJ'),\n",
       "  ('viagem', 'N'),\n",
       "  ('a', 'PREP|+'),\n",
       "  ('a', 'ART'),\n",
       "  ('Exposição', 'NPROP'),\n",
       "  ('Nacional', 'NPROP'),\n",
       "  ('do', 'NPROP'),\n",
       "  ('Zebu', 'NPROP'),\n",
       "  (',', ','),\n",
       "  ('que', 'PRO-KS-REL'),\n",
       "  ('começa', 'V'),\n",
       "  ('dia', 'N'),\n",
       "  ('25', 'N|AP')]]"
      ]
     },
     "execution_count": 84,
     "metadata": {},
     "output_type": "execute_result"
    }
   ],
   "source": [
    "tagged_sentences[:2]"
   ]
  },
  {
   "cell_type": "code",
   "execution_count": 42,
   "metadata": {},
   "outputs": [],
   "source": [
    "def ext_ft(tg_sent):\n",
    "    sent, tag = [], []\n",
    " \n",
    "    for tg in tg_sent:\n",
    "        for index in range(len(tg)):\n",
    "            try:\n",
    "                sent.append(sentence_features(get_untagged_sentence(tg), index))\n",
    "                tag.append(tg[index][1])\n",
    "            except:\n",
    "                pass    \n",
    " \n",
    "    return sent, tag"
   ]
  },
  {
   "cell_type": "code",
   "execution_count": 43,
   "metadata": {},
   "outputs": [
    {
     "data": {
      "text/plain": [
       "([{'word': 'Jersei',\n",
       "   'dist_from_first': 0,\n",
       "   'dist_from_last': 16,\n",
       "   'capitalized': True,\n",
       "   'prefix1': 'J',\n",
       "   'prefix2': 'Je',\n",
       "   'prefix3': 'Jer',\n",
       "   'suffix1': 'i',\n",
       "   'suffix2': 'ei',\n",
       "   'suffix3': 'sei',\n",
       "   'prev_word': '',\n",
       "   'next_word': 'atinge',\n",
       "   'numeric': False},\n",
       "  {'word': 'atinge',\n",
       "   'dist_from_first': 1,\n",
       "   'dist_from_last': 15,\n",
       "   'capitalized': False,\n",
       "   'prefix1': 'a',\n",
       "   'prefix2': 'at',\n",
       "   'prefix3': 'ati',\n",
       "   'suffix1': 'e',\n",
       "   'suffix2': 'ge',\n",
       "   'suffix3': 'nge',\n",
       "   'prev_word': 'Jersei',\n",
       "   'next_word': 'média',\n",
       "   'numeric': False}],\n",
       " ['N', 'V'])"
      ]
     },
     "execution_count": 43,
     "metadata": {},
     "output_type": "execute_result"
    }
   ],
   "source": [
    "X, y = ext_ft(tagged_sentences)\n",
    "\n",
    "X[:2], y[:2]"
   ]
  },
  {
   "cell_type": "code",
   "execution_count": 86,
   "metadata": {},
   "outputs": [
    {
     "data": {
      "text/html": [
       "<div>\n",
       "<style scoped>\n",
       "    .dataframe tbody tr th:only-of-type {\n",
       "        vertical-align: middle;\n",
       "    }\n",
       "\n",
       "    .dataframe tbody tr th {\n",
       "        vertical-align: top;\n",
       "    }\n",
       "\n",
       "    .dataframe thead th {\n",
       "        text-align: right;\n",
       "    }\n",
       "</style>\n",
       "<table border=\"1\" class=\"dataframe\">\n",
       "  <thead>\n",
       "    <tr style=\"text-align: right;\">\n",
       "      <th></th>\n",
       "      <th>capitalized</th>\n",
       "      <th>dist_from_first</th>\n",
       "      <th>dist_from_last</th>\n",
       "      <th>next_word</th>\n",
       "      <th>numeric</th>\n",
       "      <th>prefix1</th>\n",
       "      <th>prefix2</th>\n",
       "      <th>prefix3</th>\n",
       "      <th>prev_word</th>\n",
       "      <th>suffix1</th>\n",
       "      <th>suffix2</th>\n",
       "      <th>suffix3</th>\n",
       "      <th>word</th>\n",
       "    </tr>\n",
       "  </thead>\n",
       "  <tbody>\n",
       "    <tr>\n",
       "      <th>0</th>\n",
       "      <td>True</td>\n",
       "      <td>0</td>\n",
       "      <td>16</td>\n",
       "      <td>atinge</td>\n",
       "      <td>False</td>\n",
       "      <td>J</td>\n",
       "      <td>Je</td>\n",
       "      <td>Jer</td>\n",
       "      <td></td>\n",
       "      <td>i</td>\n",
       "      <td>ei</td>\n",
       "      <td>sei</td>\n",
       "      <td>Jersei</td>\n",
       "    </tr>\n",
       "    <tr>\n",
       "      <th>1</th>\n",
       "      <td>False</td>\n",
       "      <td>1</td>\n",
       "      <td>15</td>\n",
       "      <td>média</td>\n",
       "      <td>False</td>\n",
       "      <td>a</td>\n",
       "      <td>at</td>\n",
       "      <td>ati</td>\n",
       "      <td>Jersei</td>\n",
       "      <td>e</td>\n",
       "      <td>ge</td>\n",
       "      <td>nge</td>\n",
       "      <td>atinge</td>\n",
       "    </tr>\n",
       "    <tr>\n",
       "      <th>2</th>\n",
       "      <td>False</td>\n",
       "      <td>2</td>\n",
       "      <td>14</td>\n",
       "      <td>de</td>\n",
       "      <td>False</td>\n",
       "      <td>m</td>\n",
       "      <td>mé</td>\n",
       "      <td>méd</td>\n",
       "      <td>atinge</td>\n",
       "      <td>a</td>\n",
       "      <td>ia</td>\n",
       "      <td>dia</td>\n",
       "      <td>média</td>\n",
       "    </tr>\n",
       "    <tr>\n",
       "      <th>3</th>\n",
       "      <td>False</td>\n",
       "      <td>3</td>\n",
       "      <td>13</td>\n",
       "      <td>Cr$</td>\n",
       "      <td>False</td>\n",
       "      <td>d</td>\n",
       "      <td>de</td>\n",
       "      <td>de</td>\n",
       "      <td>média</td>\n",
       "      <td>e</td>\n",
       "      <td>de</td>\n",
       "      <td>de</td>\n",
       "      <td>de</td>\n",
       "    </tr>\n",
       "    <tr>\n",
       "      <th>4</th>\n",
       "      <td>True</td>\n",
       "      <td>4</td>\n",
       "      <td>12</td>\n",
       "      <td>1,4</td>\n",
       "      <td>False</td>\n",
       "      <td>C</td>\n",
       "      <td>Cr</td>\n",
       "      <td>Cr$</td>\n",
       "      <td>de</td>\n",
       "      <td>$</td>\n",
       "      <td>r$</td>\n",
       "      <td>Cr$</td>\n",
       "      <td>Cr$</td>\n",
       "    </tr>\n",
       "  </tbody>\n",
       "</table>\n",
       "</div>"
      ],
      "text/plain": [
       "   capitalized  dist_from_first  dist_from_last next_word  numeric prefix1  \\\n",
       "0         True                0              16    atinge    False       J   \n",
       "1        False                1              15     média    False       a   \n",
       "2        False                2              14        de    False       m   \n",
       "3        False                3              13       Cr$    False       d   \n",
       "4         True                4              12       1,4    False       C   \n",
       "\n",
       "  prefix2 prefix3 prev_word suffix1 suffix2 suffix3    word  \n",
       "0      Je     Jer                 i      ei     sei  Jersei  \n",
       "1      at     ati    Jersei       e      ge     nge  atinge  \n",
       "2      mé     méd    atinge       a      ia     dia   média  \n",
       "3      de      de     média       e      de      de      de  \n",
       "4      Cr     Cr$        de       $      r$     Cr$     Cr$  "
      ]
     },
     "execution_count": 86,
     "metadata": {},
     "output_type": "execute_result"
    }
   ],
   "source": [
    "import pandas as pd\n",
    "\n",
    "df1 = pd.DataFrame(X)\n",
    "df1.head()"
   ]
  },
  {
   "cell_type": "code",
   "execution_count": 44,
   "metadata": {},
   "outputs": [
    {
     "data": {
      "text/plain": [
       "20"
      ]
     },
     "execution_count": 44,
     "metadata": {},
     "output_type": "execute_result"
    }
   ],
   "source": [
    "import gc \n",
    "gc.collect()"
   ]
  },
  {
   "cell_type": "code",
   "execution_count": 45,
   "metadata": {},
   "outputs": [],
   "source": [
    "# https://scikit-learn.org/stable/modules/generated/sklearn.feature_extraction.DictVectorizer.html\n",
    "from sklearn.feature_extraction import DictVectorizer\n",
    "v             = DictVectorizer(sparse=False)\n",
    "X_transformed = v.fit_transform(X)"
   ]
  },
  {
   "cell_type": "code",
   "execution_count": 92,
   "metadata": {},
   "outputs": [
    {
     "data": {
      "text/plain": [
       "([{'word': 'Jersei',\n",
       "   'dist_from_first': 0,\n",
       "   'dist_from_last': 16,\n",
       "   'capitalized': True,\n",
       "   'prefix1': 'J',\n",
       "   'prefix2': 'Je',\n",
       "   'prefix3': 'Jer',\n",
       "   'suffix1': 'i',\n",
       "   'suffix2': 'ei',\n",
       "   'suffix3': 'sei',\n",
       "   'prev_word': '',\n",
       "   'next_word': 'atinge',\n",
       "   'numeric': False},\n",
       "  {'word': 'atinge',\n",
       "   'dist_from_first': 1,\n",
       "   'dist_from_last': 15,\n",
       "   'capitalized': False,\n",
       "   'prefix1': 'a',\n",
       "   'prefix2': 'at',\n",
       "   'prefix3': 'ati',\n",
       "   'suffix1': 'e',\n",
       "   'suffix2': 'ge',\n",
       "   'suffix3': 'nge',\n",
       "   'prev_word': 'Jersei',\n",
       "   'next_word': 'média',\n",
       "   'numeric': False}],\n",
       " array([[ 1.,  0., 16., ...,  0.,  0.,  0.],\n",
       "        [ 0.,  1., 15., ...,  0.,  0.,  0.]]))"
      ]
     },
     "execution_count": 92,
     "metadata": {},
     "output_type": "execute_result"
    }
   ],
   "source": [
    "from sklearn.feature_extraction import DictVectorizer\n",
    "\n",
    "n_sample        = 20000\n",
    "dict_vectorizer = DictVectorizer(sparse=False)\n",
    "X_transformed   = dict_vectorizer.fit_transform(X[0:n_sample])\n",
    "y_sampled       = y[0:n_sample]\n",
    "\n",
    "X[0:n_sample][:2], X_transformed[:2]"
   ]
  },
  {
   "cell_type": "code",
   "execution_count": 93,
   "metadata": {},
   "outputs": [
    {
     "data": {
      "text/html": [
       "<div>\n",
       "<style scoped>\n",
       "    .dataframe tbody tr th:only-of-type {\n",
       "        vertical-align: middle;\n",
       "    }\n",
       "\n",
       "    .dataframe tbody tr th {\n",
       "        vertical-align: top;\n",
       "    }\n",
       "\n",
       "    .dataframe thead th {\n",
       "        text-align: right;\n",
       "    }\n",
       "</style>\n",
       "<table border=\"1\" class=\"dataframe\">\n",
       "  <thead>\n",
       "    <tr style=\"text-align: right;\">\n",
       "      <th></th>\n",
       "      <th>0</th>\n",
       "      <th>1</th>\n",
       "      <th>2</th>\n",
       "      <th>3</th>\n",
       "      <th>4</th>\n",
       "      <th>5</th>\n",
       "      <th>6</th>\n",
       "      <th>7</th>\n",
       "      <th>8</th>\n",
       "      <th>9</th>\n",
       "      <th>...</th>\n",
       "      <th>16871</th>\n",
       "      <th>16872</th>\n",
       "      <th>16873</th>\n",
       "      <th>16874</th>\n",
       "      <th>16875</th>\n",
       "      <th>16876</th>\n",
       "      <th>16877</th>\n",
       "      <th>16878</th>\n",
       "      <th>16879</th>\n",
       "      <th>16880</th>\n",
       "    </tr>\n",
       "  </thead>\n",
       "  <tbody>\n",
       "    <tr>\n",
       "      <th>0</th>\n",
       "      <td>1.0</td>\n",
       "      <td>0.0</td>\n",
       "      <td>16.0</td>\n",
       "      <td>0.0</td>\n",
       "      <td>0.0</td>\n",
       "      <td>0.0</td>\n",
       "      <td>0.0</td>\n",
       "      <td>0.0</td>\n",
       "      <td>0.0</td>\n",
       "      <td>0.0</td>\n",
       "      <td>...</td>\n",
       "      <td>0.0</td>\n",
       "      <td>0.0</td>\n",
       "      <td>0.0</td>\n",
       "      <td>0.0</td>\n",
       "      <td>0.0</td>\n",
       "      <td>0.0</td>\n",
       "      <td>0.0</td>\n",
       "      <td>0.0</td>\n",
       "      <td>0.0</td>\n",
       "      <td>0.0</td>\n",
       "    </tr>\n",
       "    <tr>\n",
       "      <th>1</th>\n",
       "      <td>0.0</td>\n",
       "      <td>1.0</td>\n",
       "      <td>15.0</td>\n",
       "      <td>0.0</td>\n",
       "      <td>0.0</td>\n",
       "      <td>0.0</td>\n",
       "      <td>0.0</td>\n",
       "      <td>0.0</td>\n",
       "      <td>0.0</td>\n",
       "      <td>0.0</td>\n",
       "      <td>...</td>\n",
       "      <td>0.0</td>\n",
       "      <td>0.0</td>\n",
       "      <td>0.0</td>\n",
       "      <td>0.0</td>\n",
       "      <td>0.0</td>\n",
       "      <td>0.0</td>\n",
       "      <td>0.0</td>\n",
       "      <td>0.0</td>\n",
       "      <td>0.0</td>\n",
       "      <td>0.0</td>\n",
       "    </tr>\n",
       "    <tr>\n",
       "      <th>2</th>\n",
       "      <td>0.0</td>\n",
       "      <td>2.0</td>\n",
       "      <td>14.0</td>\n",
       "      <td>0.0</td>\n",
       "      <td>0.0</td>\n",
       "      <td>0.0</td>\n",
       "      <td>0.0</td>\n",
       "      <td>0.0</td>\n",
       "      <td>0.0</td>\n",
       "      <td>0.0</td>\n",
       "      <td>...</td>\n",
       "      <td>0.0</td>\n",
       "      <td>0.0</td>\n",
       "      <td>0.0</td>\n",
       "      <td>0.0</td>\n",
       "      <td>0.0</td>\n",
       "      <td>0.0</td>\n",
       "      <td>0.0</td>\n",
       "      <td>0.0</td>\n",
       "      <td>0.0</td>\n",
       "      <td>0.0</td>\n",
       "    </tr>\n",
       "    <tr>\n",
       "      <th>3</th>\n",
       "      <td>0.0</td>\n",
       "      <td>3.0</td>\n",
       "      <td>13.0</td>\n",
       "      <td>0.0</td>\n",
       "      <td>0.0</td>\n",
       "      <td>0.0</td>\n",
       "      <td>0.0</td>\n",
       "      <td>0.0</td>\n",
       "      <td>0.0</td>\n",
       "      <td>0.0</td>\n",
       "      <td>...</td>\n",
       "      <td>0.0</td>\n",
       "      <td>0.0</td>\n",
       "      <td>0.0</td>\n",
       "      <td>0.0</td>\n",
       "      <td>0.0</td>\n",
       "      <td>0.0</td>\n",
       "      <td>0.0</td>\n",
       "      <td>0.0</td>\n",
       "      <td>0.0</td>\n",
       "      <td>0.0</td>\n",
       "    </tr>\n",
       "    <tr>\n",
       "      <th>4</th>\n",
       "      <td>1.0</td>\n",
       "      <td>4.0</td>\n",
       "      <td>12.0</td>\n",
       "      <td>0.0</td>\n",
       "      <td>0.0</td>\n",
       "      <td>0.0</td>\n",
       "      <td>0.0</td>\n",
       "      <td>0.0</td>\n",
       "      <td>0.0</td>\n",
       "      <td>0.0</td>\n",
       "      <td>...</td>\n",
       "      <td>0.0</td>\n",
       "      <td>0.0</td>\n",
       "      <td>0.0</td>\n",
       "      <td>0.0</td>\n",
       "      <td>0.0</td>\n",
       "      <td>0.0</td>\n",
       "      <td>0.0</td>\n",
       "      <td>0.0</td>\n",
       "      <td>0.0</td>\n",
       "      <td>0.0</td>\n",
       "    </tr>\n",
       "  </tbody>\n",
       "</table>\n",
       "<p>5 rows × 16881 columns</p>\n",
       "</div>"
      ],
      "text/plain": [
       "   0      1      2      3      4      5      6      7      8      9      ...  \\\n",
       "0    1.0    0.0   16.0    0.0    0.0    0.0    0.0    0.0    0.0    0.0  ...   \n",
       "1    0.0    1.0   15.0    0.0    0.0    0.0    0.0    0.0    0.0    0.0  ...   \n",
       "2    0.0    2.0   14.0    0.0    0.0    0.0    0.0    0.0    0.0    0.0  ...   \n",
       "3    0.0    3.0   13.0    0.0    0.0    0.0    0.0    0.0    0.0    0.0  ...   \n",
       "4    1.0    4.0   12.0    0.0    0.0    0.0    0.0    0.0    0.0    0.0  ...   \n",
       "\n",
       "   16871  16872  16873  16874  16875  16876  16877  16878  16879  16880  \n",
       "0    0.0    0.0    0.0    0.0    0.0    0.0    0.0    0.0    0.0    0.0  \n",
       "1    0.0    0.0    0.0    0.0    0.0    0.0    0.0    0.0    0.0    0.0  \n",
       "2    0.0    0.0    0.0    0.0    0.0    0.0    0.0    0.0    0.0    0.0  \n",
       "3    0.0    0.0    0.0    0.0    0.0    0.0    0.0    0.0    0.0    0.0  \n",
       "4    0.0    0.0    0.0    0.0    0.0    0.0    0.0    0.0    0.0    0.0  \n",
       "\n",
       "[5 rows x 16881 columns]"
      ]
     },
     "execution_count": 93,
     "metadata": {},
     "output_type": "execute_result"
    }
   ],
   "source": [
    "pd.DataFrame(X_transformed).head()"
   ]
  },
  {
   "cell_type": "code",
   "execution_count": 47,
   "metadata": {},
   "outputs": [
    {
     "data": {
      "text/plain": [
       "(2, 16881)"
      ]
     },
     "execution_count": 47,
     "metadata": {},
     "output_type": "execute_result"
    }
   ],
   "source": [
    "X_transformed[:2].shape"
   ]
  },
  {
   "cell_type": "code",
   "execution_count": 48,
   "metadata": {},
   "outputs": [],
   "source": [
    "X_train,X_test,y_train,y_test = train_test_split(X_transformed, y_sampled, test_size=0.2, random_state=123)"
   ]
  },
  {
   "cell_type": "code",
   "execution_count": 49,
   "metadata": {},
   "outputs": [
    {
     "data": {
      "text/plain": [
       "110"
      ]
     },
     "execution_count": 49,
     "metadata": {},
     "output_type": "execute_result"
    }
   ],
   "source": [
    "import gc\n",
    "\n",
    "X_transformed = y_sampled = None\n",
    "\n",
    "gc.collect()"
   ]
  },
  {
   "cell_type": "code",
   "execution_count": 58,
   "metadata": {},
   "outputs": [
    {
     "name": "stderr",
     "output_type": "stream",
     "text": [
      "/home/marlesson/anaconda3/lib/python3.7/site-packages/sklearn/linear_model/logistic.py:433: FutureWarning: Default solver will be changed to 'lbfgs' in 0.22. Specify a solver to silence this warning.\n",
      "  FutureWarning)\n",
      "/home/marlesson/anaconda3/lib/python3.7/site-packages/sklearn/linear_model/logistic.py:460: FutureWarning: Default multi_class will be changed to 'auto' in 0.22. Specify the multi_class option to silence this warning.\n",
      "  \"this warning.\", FutureWarning)\n"
     ]
    },
    {
     "data": {
      "text/plain": [
       "LogisticRegression(C=1.0, class_weight=None, dual=False, fit_intercept=True,\n",
       "          intercept_scaling=1, max_iter=100, multi_class='warn',\n",
       "          n_jobs=None, penalty='l2', random_state=None, solver='warn',\n",
       "          tol=0.0001, verbose=0, warm_start=False)"
      ]
     },
     "execution_count": 58,
     "metadata": {},
     "output_type": "execute_result"
    }
   ],
   "source": [
    "from sklearn.linear_model import LogisticRegression\n",
    "\n",
    "#rf = RandomForestClassifier(n_jobs=4)\n",
    "rf = LogisticRegression()\n",
    "rf.fit(X_train,y_train)"
   ]
  },
  {
   "cell_type": "code",
   "execution_count": 59,
   "metadata": {},
   "outputs": [
    {
     "data": {
      "text/plain": [
       "array(['!', '\"', '$', '(', ')', ',', '-', ':', ';', 'ADJ', 'ADJ|EST',\n",
       "       'ADV', 'ADV-KS-REL', 'ART', 'ART|+', 'CUR', 'KC', 'KC|[', 'KS',\n",
       "       'N', 'NPROP', 'NUM', 'N|AP', 'N|DAT', 'N|EST', 'N|HOR', 'N|TEL',\n",
       "       'PCP', 'PDEN', 'PREP', 'PREP|+', 'PRO-KS', 'PRO-KS-REL', 'PROADJ',\n",
       "       'PROPESS', 'PROSUB', 'V', 'VAUX', 'VAUX|+', 'V|+', '['],\n",
       "      dtype='<U10')"
      ]
     },
     "execution_count": 59,
     "metadata": {},
     "output_type": "execute_result"
    }
   ],
   "source": [
    "np.unique(y_train)"
   ]
  },
  {
   "cell_type": "code",
   "execution_count": 60,
   "metadata": {},
   "outputs": [],
   "source": [
    "# Transforma string em vetor e usa o modelo treinado\n",
    "def predict_pos_tags(sentence):\n",
    "    tagged_sentence = []\n",
    "    features = [sentence_features(sentence, index) for index in range(len(sentence))]\n",
    "    features = dict_vectorizer.transform(features)\n",
    "    tags     = rf.predict(features)\n",
    "    return zip(sentence, tags)"
   ]
  },
  {
   "cell_type": "code",
   "execution_count": null,
   "metadata": {},
   "outputs": [],
   "source": [
    "# train model\n",
    "#rf           = model.fit(...) #"
   ]
  },
  {
   "cell_type": "code",
   "execution_count": 97,
   "metadata": {},
   "outputs": [
    {
     "data": {
      "text/plain": [
       "0.92675"
      ]
     },
     "execution_count": 97,
     "metadata": {},
     "output_type": "execute_result"
    }
   ],
   "source": [
    "# Evaluate\n",
    "predictions  = rf.predict(X_test)\n",
    "accuracy_score(y_test,predictions)"
   ]
  },
  {
   "cell_type": "code",
   "execution_count": 96,
   "metadata": {},
   "outputs": [
    {
     "name": "stdout",
     "output_type": "stream",
     "text": [
      "('O', 'ART')\n",
      "('rato', 'N')\n",
      "('roeu', 'V')\n",
      "('a', 'ART')\n",
      "('roupa', 'N')\n",
      "('do', 'NPROP')\n",
      "('rei', 'N')\n",
      "('de', 'PREP')\n",
      "('Roma', 'NPROP')\n"
     ]
    }
   ],
   "source": [
    "# sentence\n",
    "test_sentence = \"O rato roeu a roupa do rei de Roma\"\n",
    "\n",
    "# predict\n",
    "for tagged in predict_pos_tags(test_sentence.split()):\n",
    "    print(tagged)"
   ]
  },
  {
   "cell_type": "code",
   "execution_count": 100,
   "metadata": {},
   "outputs": [
    {
     "data": {
      "text/plain": [
       "<matplotlib.colorbar.Colorbar at 0x7f6adee100f0>"
      ]
     },
     "execution_count": 100,
     "metadata": {},
     "output_type": "execute_result"
    },
    {
     "data": {
      "image/png": "[encoded data removed]",
      "text/plain": [
       "<Figure size 720x720 with 2 Axes>"
      ]
     },
     "metadata": {
      "needs_background": "light"
     },
     "output_type": "display_data"
    }
   ],
   "source": [
    "conf_matrix = confusion_matrix(y_test,predictions)\n",
    "\n",
    "plt.figure(figsize=(10,10))\n",
    "plt.xticks(np.arange(len(rf.classes_)),rf.classes_)\n",
    "plt.yticks(np.arange(len(rf.classes_)),rf.classes_)\n",
    "plt.imshow(conf_matrix,cmap=plt.cm.Blues)\n",
    "plt.colorbar()"
   ]
  },
  {
   "cell_type": "code",
   "execution_count": 29,
   "metadata": {},
   "outputs": [],
   "source": [
    "# feature_list = zip(dict_vectorizer.get_feature_names(),rf.feature_importances_)\n",
    "# sorted_features = sorted(feature_list,key=lambda x: x[1], reverse=True)\n",
    "# print(sorted_features[0:20])"
   ]
  },
  {
   "cell_type": "code",
   "execution_count": null,
   "metadata": {
    "collapsed": true
   },
   "outputs": [],
   "source": []
  }
 ],
 "metadata": {
  "kernelspec": {
   "display_name": "Python 3",
   "language": "python",
   "name": "python3"
  },
  "language_info": {
   "codemirror_mode": {
    "name": "ipython",
    "version": 3
   },
   "file_extension": ".py",
   "mimetype": "text/x-python",
   "name": "python",
   "nbconvert_exporter": "python",
   "pygments_lexer": "ipython3",
   "version": "3.7.3"
  },
  "toc": {
   "base_numbering": 1,
   "nav_menu": {},
   "number_sections": true,
   "sideBar": true,
   "skip_h1_title": false,
   "title_cell": "Table of Contents",
   "title_sidebar": "Contents",
   "toc_cell": false,
   "toc_position": {},
   "toc_section_display": true,
   "toc_window_display": false
  }
 },
 "nbformat": 4,
 "nbformat_minor": 2
}
